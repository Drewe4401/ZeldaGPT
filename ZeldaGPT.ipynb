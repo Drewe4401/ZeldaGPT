{
  "nbformat": 4,
  "nbformat_minor": 0,
  "metadata": {
    "colab": {
      "provenance": [],
      "authorship_tag": "ABX9TyPt9S1rkac3dkSzwlTYT0H3",
      "include_colab_link": true
    },
    "kernelspec": {
      "name": "python3",
      "display_name": "Python 3"
    },
    "language_info": {
      "name": "python"
    }
  },
  "cells": [
    {
      "cell_type": "markdown",
      "metadata": {
        "id": "view-in-github",
        "colab_type": "text"
      },
      "source": [
        "<a href=\"https://colab.research.google.com/github/Drewe4401/ZeldaGPT/blob/main/ZeldaGPT.ipynb\" target=\"_parent\"><img src=\"https://colab.research.google.com/assets/colab-badge.svg\" alt=\"Open In Colab\"/></a>"
      ]
    },
    {
      "cell_type": "markdown",
      "source": [
        "# ZeldaGPT\n",
        "\n",
        "  * ZeldaGPT allows you to train a GPT model using the Zelda Text Dump Dataset. \n",
        "The program handles the data preprocessing, model configuration, and training process to optimize the language generation capabilities.\n",
        "  * Once the GPT model is trained, ZeldaGPT enables you to generate new text based on the trained model. This feature allows you to interact with the model and obtain Zelda-like dialogues, descriptions, or other text elements."
      ],
      "metadata": {
        "id": "8WTQsl88h1Yo"
      }
    },
    {
      "cell_type": "markdown",
      "source": [
        "## Imports\n",
        "\n",
        "* import torch: This imports the PyTorch library, which is an open-source machine learning library for Python, used for applications such as computer vision and natural language processing. It provides tensor computation with strong GPU acceleration, deep neural networks built on a tape-based autograd system, and a variety of optimization algorithms and tools for research and development.\n",
        "\n",
        "* import torch.nn as nn: This imports the neural network module from the PyTorch library and assigns it an alias nn. The torch.nn module provides classes and functions for creating and training neural networks. It contains classes for defining layers, loss functions, and optimization algorithms. By importing it as nn, it allows for easier and cleaner access to the neural network functionalities provided by the PyTorch library.\n"
      ],
      "metadata": {
        "id": "iYk65eBdhW9u"
      }
    },
    {
      "cell_type": "code",
      "source": [
        "import torch\n",
        "import torch.nn as nn\n",
        "from torch.nn import functional as F"
      ],
      "metadata": {
        "id": "Xu0P6jfHgqU5"
      },
      "execution_count": null,
      "outputs": []
    },
    {
      "cell_type": "code",
      "execution_count": null,
      "metadata": {
        "colab": {
          "base_uri": "https://localhost:8080/"
        },
        "id": "qS4Gz_uXccdi",
        "outputId": "d262be07-b17b-4afd-f5ef-2aa9b0a7baa9"
      },
      "outputs": [
        {
          "output_type": "stream",
          "name": "stdout",
          "text": [
            "--2023-05-04 01:55:37--  https://raw.githubusercontent.com/Drewe4401/ZeldaGPT/main/zelda_text_dump.txt\n",
            "Resolving raw.githubusercontent.com (raw.githubusercontent.com)... 185.199.111.133, 185.199.110.133, 185.199.108.133, ...\n",
            "Connecting to raw.githubusercontent.com (raw.githubusercontent.com)|185.199.111.133|:443... connected.\n",
            "HTTP request sent, awaiting response... 200 OK\n",
            "Length: 666033 (650K) [text/plain]\n",
            "Saving to: ‘zelda_text_dump.txt’\n",
            "\n",
            "\rzelda_text_dump.txt   0%[                    ]       0  --.-KB/s               \rzelda_text_dump.txt 100%[===================>] 650.42K  --.-KB/s    in 0.04s   \n",
            "\n",
            "2023-05-04 01:55:37 (14.7 MB/s) - ‘zelda_text_dump.txt’ saved [666033/666033]\n",
            "\n"
          ]
        }
      ],
      "source": [
        "!wget https://raw.githubusercontent.com/Drewe4401/ZeldaGPT/main/zelda_text_dump.txt #getting data set from github"
      ]
    },
    {
      "cell_type": "code",
      "source": [
        "#reading the file\n",
        "with open('zelda_text_dump.txt', 'r', encoding='utf-8') as f:\n",
        "  text = f.read()\n",
        "print(\"length of dataset in characters: \", len(text))"
      ],
      "metadata": {
        "colab": {
          "base_uri": "https://localhost:8080/"
        },
        "id": "d9ZP4MT0c8dK",
        "outputId": "3fc6e92d-6e02-4201-91a0-190a8fd7f37e"
      },
      "execution_count": null,
      "outputs": [
        {
          "output_type": "stream",
          "name": "stdout",
          "text": [
            "length of dataset in characters:  631587\n"
          ]
        }
      ]
    },
    {
      "cell_type": "code",
      "source": [
        "print(text[:500]) #Checking out the first 500 characters"
      ],
      "metadata": {
        "colab": {
          "base_uri": "https://localhost:8080/"
        },
        "id": "I6k86cjUdXKd",
        "outputId": "a3d3a872-51c7-4ba8-bcf0-bea21991c8dc"
      },
      "execution_count": null,
      "outputs": [
        {
          "output_type": "stream",
          "name": "stdout",
          "text": [
            "You borrowed a Pocket Egg!\n",
            "A Pocket Cucco will hatch from\n",
            "it overnight. Be sure to give it\n",
            "back when you are done with it.\n",
            "\n",
            "You returned the Pocket Cucco\n",
            "and got Cojiro in return!\n",
            "Unlike other Cuccos, Cojiro\n",
            "rarely crows.\n",
            "\n",
            "You got an Odd Mushroom!\n",
            "A fresh mushroom like this is\n",
            "sure to spoil quickly! Take it to\n",
            "the Kakariko Potion Shop, quickly!\n",
            "\n",
            "You received an Odd Potion!\n",
            "It may be useful for something...\n",
            "Hurry to the Lost Woods!\n",
            "\n",
            "You returned the Odd Potion \n",
            "and got the Poacher's Saw!\n",
            "The youn\n"
          ]
        }
      ]
    },
    {
      "cell_type": "code",
      "source": [
        "chars_in_text = sorted(list(set(text)))\n",
        "vocab_size = len(chars_in_text)\n",
        "print(''.join(chars_in_text))\n",
        "print(vocab_size)"
      ],
      "metadata": {
        "colab": {
          "base_uri": "https://localhost:8080/"
        },
        "id": "XSrdTdmbePFp",
        "outputId": "6be34a8d-eb38-4907-d32f-b45c3011d8de"
      },
      "execution_count": null,
      "outputs": [
        {
          "output_type": "stream",
          "name": "stdout",
          "text": [
            "\n",
            "\u000b\f\u0010\u0014\u0015\u0016\u0017\u0018\u0019\u001b\u001c\u001d !\"&'()*+,-./0123456789:;<>?ABCDEFGHIJKLMNOPQRSTUVWXYZ^abcdefghijklmnopqrstuvwxyz|~§©´»ÁÄÈËÌÍÎÏÐÑÒÔÕ×ØÙÚÛÜÝÞßáâãäåæçèéôöùúûü†\n",
            "138\n"
          ]
        }
      ]
    },
    {
      "cell_type": "code",
      "source": [
        "# create a mapping from characters to integers\n",
        "stoi = { ch:i for i,ch in enumerate(chars_in_text) }\n",
        "itos = { i:ch for i,ch in enumerate(chars_in_text) }\n",
        "encode = lambda s: [stoi[c] for c in s] # encoder: take a string, output a list of integers\n",
        "decode = lambda l: ''.join([itos[i] for i in l]) # decoder: take a list of integers, output a string"
      ],
      "metadata": {
        "id": "a3Zc0qNbgNh3"
      },
      "execution_count": null,
      "outputs": []
    },
    {
      "cell_type": "code",
      "source": [
        "data = torch.tensor(encode(text), dtype=torch.long)\n",
        "print(data.shape, data.dtype)\n",
        "print(data[:500])"
      ],
      "metadata": {
        "colab": {
          "base_uri": "https://localhost:8080/"
        },
        "id": "r97hWToZgmbJ",
        "outputId": "fe8bee36-94af-4479-b87e-2768669c01bf"
      },
      "execution_count": null,
      "outputs": [
        {
          "output_type": "stream",
          "name": "stdout",
          "text": [
            "torch.Size([631587]) torch.int64\n",
            "tensor([65, 82, 88, 13, 69, 82, 85, 85, 82, 90, 72, 71, 13, 68, 13, 56, 82, 70,\n",
            "        78, 72, 87, 13, 45, 74, 74, 14,  0, 41, 13, 56, 82, 70, 78, 72, 87, 13,\n",
            "        43, 88, 70, 70, 82, 13, 90, 76, 79, 79, 13, 75, 68, 87, 70, 75, 13, 73,\n",
            "        85, 82, 80,  0, 76, 87, 13, 82, 89, 72, 85, 81, 76, 74, 75, 87, 24, 13,\n",
            "        42, 72, 13, 86, 88, 85, 72, 13, 87, 82, 13, 74, 76, 89, 72, 13, 76, 87,\n",
            "         0, 69, 68, 70, 78, 13, 90, 75, 72, 81, 13, 92, 82, 88, 13, 68, 85, 72,\n",
            "        13, 71, 82, 81, 72, 13, 90, 76, 87, 75, 13, 76, 87, 24,  0,  0, 65, 82,\n",
            "        88, 13, 85, 72, 87, 88, 85, 81, 72, 71, 13, 87, 75, 72, 13, 56, 82, 70,\n",
            "        78, 72, 87, 13, 43, 88, 70, 70, 82,  0, 68, 81, 71, 13, 74, 82, 87, 13,\n",
            "        43, 82, 77, 76, 85, 82, 13, 76, 81, 13, 85, 72, 87, 88, 85, 81, 14,  0,\n",
            "        61, 81, 79, 76, 78, 72, 13, 82, 87, 75, 72, 85, 13, 43, 88, 70, 70, 82,\n",
            "        86, 22, 13, 43, 82, 77, 76, 85, 82,  0, 85, 68, 85, 72, 79, 92, 13, 70,\n",
            "        85, 82, 90, 86, 24,  0,  0, 65, 82, 88, 13, 74, 82, 87, 13, 68, 81, 13,\n",
            "        55, 71, 71, 13, 53, 88, 86, 75, 85, 82, 82, 80, 14,  0, 41, 13, 73, 85,\n",
            "        72, 86, 75, 13, 80, 88, 86, 75, 85, 82, 82, 80, 13, 79, 76, 78, 72, 13,\n",
            "        87, 75, 76, 86, 13, 76, 86,  0, 86, 88, 85, 72, 13, 87, 82, 13, 86, 83,\n",
            "        82, 76, 79, 13, 84, 88, 76, 70, 78, 79, 92, 14, 13, 60, 68, 78, 72, 13,\n",
            "        76, 87, 13, 87, 82,  0, 87, 75, 72, 13, 51, 68, 78, 68, 85, 76, 78, 82,\n",
            "        13, 56, 82, 87, 76, 82, 81, 13, 59, 75, 82, 83, 22, 13, 84, 88, 76, 70,\n",
            "        78, 79, 92, 14,  0,  0, 65, 82, 88, 13, 85, 72, 70, 72, 76, 89, 72, 71,\n",
            "        13, 68, 81, 13, 55, 71, 71, 13, 56, 82, 87, 76, 82, 81, 14,  0, 49, 87,\n",
            "        13, 80, 68, 92, 13, 69, 72, 13, 88, 86, 72, 73, 88, 79, 13, 73, 82, 85,\n",
            "        13, 86, 82, 80, 72, 87, 75, 76, 81, 74, 24, 24, 24,  0, 48, 88, 85, 85,\n",
            "        92, 13, 87, 82, 13, 87, 75, 72, 13, 52, 82, 86, 87, 13, 63, 82, 82, 71,\n",
            "        86, 14,  0,  0, 65, 82, 88, 13, 85, 72, 87, 88, 85, 81, 72, 71, 13, 87,\n",
            "        75, 72, 13, 55, 71, 71, 13, 56, 82, 87, 76, 82, 81, 13,  0, 68, 81, 71,\n",
            "        13, 74, 82, 87, 13, 87, 75, 72, 13, 56, 82, 68, 70, 75, 72, 85, 17, 86,\n",
            "        13, 59, 68, 90, 14,  0, 60, 75, 72, 13, 92, 82, 88, 81])\n"
          ]
        }
      ]
    }
  ]
}